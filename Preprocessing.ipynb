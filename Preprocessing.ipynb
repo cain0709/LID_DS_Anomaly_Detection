{
 "cells": [
  {
   "cell_type": "code",
   "execution_count": 3,
   "id": "5c61c37c",
   "metadata": {},
   "outputs": [],
   "source": [
    "import os\n",
    "import pandas as pd\n",
    "import numpy as np\n",
    "from tqdm import tqdm"
   ]
  },
  {
   "cell_type": "code",
   "execution_count": 4,
   "id": "37026fbf",
   "metadata": {
    "scrolled": true
   },
   "outputs": [
    {
     "data": {
      "text/plain": [
       "['Bruteforce_CWE-307',\n",
       " 'CVE-2012-2122',\n",
       " 'CVE-2014-0160',\n",
       " 'CVE-2017-7529',\n",
       " 'CVE-2018-3760',\n",
       " 'CVE-2019-5418',\n",
       " 'EPS_CWE-434',\n",
       " 'PHP_CWE-434',\n",
       " 'SQL_Injection_CWE-89',\n",
       " 'ZipSlip']"
      ]
     },
     "execution_count": 4,
     "metadata": {},
     "output_type": "execute_result"
    }
   ],
   "source": [
    "Attack_list = ['Bruteforce_CWE-307','CVE-2012-2122','CVE-2014-0160','CVE-2017-7529','CVE-2018-3760',\n",
    "               'CVE-2019-5418','EPS_CWE-434','PHP_CWE-434','SQL_Injection_CWE-89','ZipSlip']\n",
    "Attack_list"
   ]
  },
  {
   "cell_type": "code",
   "execution_count": 5,
   "id": "dc497526",
   "metadata": {},
   "outputs": [],
   "source": [
    "def make_csv(name): # .txt -> .csv converting function\n",
    "    file_list = os.listdir(\"/Users/cain/Desktop/Project/Anomaly_Detection_Project/LID-DS-2019/\"+name)\n",
    "    file_list.remove('.DS_Store') #Mac의 경우만 존재하는 것 같음 Mac환경이 아니라면 이 row를 무방함\n",
    "    print(len(file_list))\n",
    "    base_dir = '/Users/cain/Desktop/Project/Anomaly_Detection_Project/LID-DS-2019/'+name+'/'#txt파일이 들어있는 폴더가 있는 dir\n",
    "    base_csv_dir = '/Users/cain/Desktop/Project/Anomaly_Detection_Project/LID-DS-2019/CSV/'+name+'/'#CSV파일을 저장할 폴더\n",
    "    for e in tqdm(file_list):\n",
    "        dir = base_dir + e\n",
    "        sample = pd.read_table(dir, header=None)\n",
    "        tmp = list()\n",
    "        for i in range (sample.shape[0]):\n",
    "            x = sample[0][i]\n",
    "            sp = x.split(' ', 8)\n",
    "            tmp.append(sp)\n",
    "        data = pd.DataFrame(tmp,columns=['event_num','event_time','cpu','user_uid','process','process_id','event_direction','event_type','event_argument'])\n",
    "        data.reset_index(drop=True,inplace=True)\n",
    "        file_name_csv = e.replace('.txt','.csv')\n",
    "        save_dir = base_csv_dir + file_name_csv\n",
    "        data.to_csv(save_dir)"
   ]
  },
  {
   "cell_type": "code",
   "execution_count": 241,
   "id": "a487725d",
   "metadata": {},
   "outputs": [
    {
     "name": "stdout",
     "output_type": "stream",
     "text": [
      "1221\n"
     ]
    },
    {
     "name": "stderr",
     "output_type": "stream",
     "text": [
      "100%|███████████████████████████████████████| 1221/1221 [04:23<00:00,  4.64it/s]\n"
     ]
    },
    {
     "name": "stdout",
     "output_type": "stream",
     "text": [
      "1079\n"
     ]
    },
    {
     "name": "stderr",
     "output_type": "stream",
     "text": [
      "100%|███████████████████████████████████████| 1079/1079 [04:04<00:00,  4.41it/s]\n"
     ]
    },
    {
     "name": "stdout",
     "output_type": "stream",
     "text": [
      "1071\n"
     ]
    },
    {
     "name": "stderr",
     "output_type": "stream",
     "text": [
      "100%|███████████████████████████████████████| 1071/1071 [32:11<00:00,  1.80s/it]\n"
     ]
    },
    {
     "name": "stdout",
     "output_type": "stream",
     "text": [
      "1112\n"
     ]
    },
    {
     "name": "stderr",
     "output_type": "stream",
     "text": [
      "100%|███████████████████████████████████████| 1112/1112 [05:47<00:00,  3.20it/s]\n"
     ]
    },
    {
     "name": "stdout",
     "output_type": "stream",
     "text": [
      "1078\n"
     ]
    },
    {
     "name": "stderr",
     "output_type": "stream",
     "text": [
      "100%|███████████████████████████████████████| 1078/1078 [06:06<00:00,  2.94it/s]\n"
     ]
    },
    {
     "name": "stdout",
     "output_type": "stream",
     "text": [
      "1063\n"
     ]
    },
    {
     "name": "stderr",
     "output_type": "stream",
     "text": [
      "100%|█████████████████████████████████████| 1063/1063 [1:07:01<00:00,  3.78s/it]\n"
     ]
    }
   ],
   "source": [
    "for e in Attack_list: #.txt -> .csv converting part\n",
    "    print(e)\n",
    "    make_csv(e)"
   ]
  },
  {
   "cell_type": "code",
   "execution_count": 6,
   "id": "51419223",
   "metadata": {},
   "outputs": [],
   "source": [
    "def runs_preprocessing(name): #run_file preprocessing function\n",
    "    run_file = pd.read_csv('/Users/cain/Desktop/Project/Anomaly_Detection_Project/LID-DS-2019/CSV/'+name+'/run/runs.csv')\n",
    "    #runs.csv파일을 저는 CSV/Bruteforce_CWE-307/run/runs.csv와 같은 dir에 넣어놓았습니다.\n",
    "    #run_file에 해당공격의 runs.csv파일을 읽어오게 하시면 됩니다.\n",
    "    run_file.columns = ['image_name','scenario_name','is_executing_exploit','warmup_time',\n",
    "                       'recording_time', 'exploit_start_time']\n",
    "    run_file['image_name'] = run_file['image_name'].str.strip()\n",
    "    run_file['scenario_name'] = run_file['scenario_name'].str.strip()\n",
    "    run_file.to_csv('/Users/cain/Desktop/Project/Anomaly_Detection_Project/LID-DS-2019/CSV/'+name+'/run/runs.csv', index=False)\n",
    "    #이부분도 원하시는 dir를 설정하여 저장하시면 됩니다."
   ]
  },
  {
   "cell_type": "code",
   "execution_count": 526,
   "id": "e456d8d2",
   "metadata": {},
   "outputs": [
    {
     "name": "stderr",
     "output_type": "stream",
     "text": [
      "100%|██████████████████████████████████████████| 10/10 [00:00<00:00, 159.70it/s]"
     ]
    },
    {
     "name": "stdout",
     "output_type": "stream",
     "text": [
      "Bruteforce_CWE-307\n",
      "CVE-2012-2122\n",
      "CVE-2014-0160\n",
      "CVE-2017-7529\n",
      "CVE-2018-3760\n",
      "CVE-2019-5418\n",
      "EPS_CWE-434\n",
      "PHP_CWE-434\n",
      "SQL_Injection_CWE-89\n",
      "ZipSlip\n"
     ]
    },
    {
     "name": "stderr",
     "output_type": "stream",
     "text": [
      "\n"
     ]
    }
   ],
   "source": [
    "for e in tqdm(Attack_list): # run_file preprocessing pa\n",
    "    print(e)\n",
    "    runs_preprocessing(e)"
   ]
  },
  {
   "cell_type": "code",
   "execution_count": 65,
   "id": "2941d59a",
   "metadata": {},
   "outputs": [],
   "source": [
    "def data_preprocessing(name): # data_preprocessing(labeling,...)\n",
    "    file_list = os.listdir(\"/Users/cain/Desktop/Project/Anomaly_Detection_Project/LID-DS-2019/CSV/\"+name)\n",
    "    #CSV파일 리스트 읽어오기\n",
    "    file_list.remove('.DS_Store') #Mac의 경우만 존재하는 것 같음\n",
    "    file_list.remove('run') #저는 /CSV/run 폴더에 runs.csv파일을 넣어놓았기 때문에 디렉토리를 삭제\n",
    "    print(len(file_list))\n",
    "    base_csv_dir = '/Users/cain/Desktop/Project/Anomaly_Detection_Project/LID-DS-2019/CSV/'+name+'/'\n",
    "    #CSV파일이 들어있는 폴더\n",
    "    for e in tqdm(file_list):\n",
    "        dir = base_csv_dir + e\n",
    "        n = e.replace('.csv','')\n",
    "        sample = pd.read_csv(dir, index_col=0)\n",
    "        sample['event_time'] = sample['event_time'].str.slice(start=0, stop=8)\n",
    "        sample['label'] = 0\n",
    "        run_file = pd.read_csv('/Users/cain/Desktop/Project/Anomaly_Detection_Project/LID-DS-2019/CSV/'+name+'/run/runs.csv')\n",
    "        #해당 공격의 runs.csv파일을 읽어오게 하면 됩니다. dir 설정부탁\n",
    "        if run_file['exploit_start_time'][run_file['scenario_name']==n].values[0] != -1:\n",
    "            record_start = int(sample['event_time'][0][6:8])#time split only second\n",
    "            exploit_start = run_file['exploit_start_time'][run_file['scenario_name']==n].values[0]\n",
    "            tmp_time = record_start + exploit_start - 1 #modified\n",
    "            if tmp_time > 60:\n",
    "                real_exploit_sec = tmp_time - 60  \n",
    "            else:\n",
    "                real_exploit_sec = tmp_time  \n",
    "            sample.loc[sample['event_time'].str.slice(6,8) == str(real_exploit_sec),'label'] = 1\n",
    "        sample.to_csv(dir)\n",
    "            #그대로 저장"
   ]
  },
  {
   "cell_type": "code",
   "execution_count": 539,
   "id": "fd60a29e",
   "metadata": {
    "scrolled": true
   },
   "outputs": [
    {
     "name": "stdout",
     "output_type": "stream",
     "text": [
      "Bruteforce_CWE-307\n",
      "1092\n"
     ]
    },
    {
     "name": "stderr",
     "output_type": "stream",
     "text": [
      "100%|███████████████████████████████████████| 1092/1092 [00:39<00:00, 27.57it/s]\n"
     ]
    },
    {
     "name": "stdout",
     "output_type": "stream",
     "text": [
      "CVE-2012-2122\n",
      "1395\n"
     ]
    },
    {
     "name": "stderr",
     "output_type": "stream",
     "text": [
      "100%|███████████████████████████████████████| 1395/1395 [00:45<00:00, 30.47it/s]\n"
     ]
    },
    {
     "name": "stdout",
     "output_type": "stream",
     "text": [
      "CVE-2014-0160\n",
      "1100\n"
     ]
    },
    {
     "name": "stderr",
     "output_type": "stream",
     "text": [
      "100%|███████████████████████████████████████| 1100/1100 [00:28<00:00, 38.90it/s]\n"
     ]
    },
    {
     "name": "stdout",
     "output_type": "stream",
     "text": [
      "CVE-2017-7529\n",
      "1157\n"
     ]
    },
    {
     "name": "stderr",
     "output_type": "stream",
     "text": [
      "100%|███████████████████████████████████████| 1157/1157 [00:16<00:00, 70.71it/s]\n"
     ]
    },
    {
     "name": "stdout",
     "output_type": "stream",
     "text": [
      "CVE-2018-3760\n",
      "1221\n"
     ]
    },
    {
     "name": "stderr",
     "output_type": "stream",
     "text": [
      "100%|███████████████████████████████████████| 1221/1221 [01:48<00:00, 11.23it/s]\n"
     ]
    },
    {
     "name": "stdout",
     "output_type": "stream",
     "text": [
      "CVE-2019-5418\n",
      "1079\n"
     ]
    },
    {
     "name": "stderr",
     "output_type": "stream",
     "text": [
      "100%|███████████████████████████████████████| 1079/1079 [01:42<00:00, 10.53it/s]\n"
     ]
    },
    {
     "name": "stdout",
     "output_type": "stream",
     "text": [
      "EPS_CWE-434\n",
      "1071\n"
     ]
    },
    {
     "name": "stderr",
     "output_type": "stream",
     "text": [
      "100%|███████████████████████████████████████| 1071/1071 [13:09<00:00,  1.36it/s]\n"
     ]
    },
    {
     "name": "stdout",
     "output_type": "stream",
     "text": [
      "PHP_CWE-434\n",
      "1112\n"
     ]
    },
    {
     "name": "stderr",
     "output_type": "stream",
     "text": [
      "100%|███████████████████████████████████████| 1112/1112 [07:35<00:00,  2.44it/s]\n"
     ]
    },
    {
     "name": "stdout",
     "output_type": "stream",
     "text": [
      "SQL_Injection_CWE-89\n",
      "1078\n"
     ]
    },
    {
     "name": "stderr",
     "output_type": "stream",
     "text": [
      "100%|███████████████████████████████████████| 1078/1078 [03:44<00:00,  4.80it/s]\n"
     ]
    },
    {
     "name": "stdout",
     "output_type": "stream",
     "text": [
      "ZipSlip\n",
      "1063\n"
     ]
    },
    {
     "name": "stderr",
     "output_type": "stream",
     "text": [
      "100%|███████████████████████████████████████| 1063/1063 [28:22<00:00,  1.60s/it]\n"
     ]
    }
   ],
   "source": [
    "for e in Attack_list:\n",
    "    print(e)\n",
    "    data_preprocessing(e)"
   ]
  },
  {
   "cell_type": "markdown",
   "id": "3583323b",
   "metadata": {},
   "source": [
    "---------------------------------------------------------------------------------------------------------------\n",
    "EDA Part"
   ]
  },
  {
   "cell_type": "code",
   "execution_count": 48,
   "id": "6f37608f",
   "metadata": {
    "scrolled": true
   },
   "outputs": [],
   "source": [
    "def unique_function(name):#event_type, process 종류 추출 함수\n",
    "    file_list = os.listdir(\"/Users/cain/Desktop/Project/Anomaly_Detection_Project/LID-DS-2019/CSV/\"+name)\n",
    "    file_list.remove('.DS_Store') #Mac의 경우만 존재하는 것 같음\n",
    "    file_list.remove('run') #저는 /CSV/run 폴더에 runs.csv파일을 넣어놓았기 때문에 디렉토리를 삭제\n",
    "    process_values = np.array([])\n",
    "    event_type_values = np.array([])\n",
    "    print(len(file_list))\n",
    "    for e in tqdm(file_list):\n",
    "        dir = \"/Users/cain/Desktop/Project/Anomaly_Detection_Project/LID-DS-2019/CSV/\"+name+\"/\"+e\n",
    "        sample = pd.read_csv(dir, index_col=0)\n",
    "        tmp1 = sample['process'].unique()\n",
    "        tmp2 = sample['event_type'].unique()\n",
    "        process_values = np.append(process_values,tmp1)\n",
    "        event_type_values = np.append(event_type_values,tmp2)\n",
    "    process_values = process_values.astype(str)\n",
    "    process_values = np.unique(process_values)\n",
    "    event_type_values = event_type_values.astype(str)\n",
    "    event_type_values = np.unique(event_type_values)\n",
    "    print(process_values)\n",
    "    print(event_type_values)\n",
    "    return process_values, event_type_values"
   ]
  },
  {
   "cell_type": "code",
   "execution_count": 49,
   "id": "e84b1039",
   "metadata": {
    "scrolled": false
   },
   "outputs": [
    {
     "name": "stdout",
     "output_type": "stream",
     "text": [
      "Bruteforce_CWE-307 EDA part\n",
      "1092\n"
     ]
    },
    {
     "name": "stderr",
     "output_type": "stream",
     "text": [
      "100%|███████████████████████████████████████| 1092/1092 [00:11<00:00, 94.37it/s]\n"
     ]
    },
    {
     "name": "stdout",
     "output_type": "stream",
     "text": [
      "['apache2' 'nan']\n",
      "['accept' 'brk' 'chdir' 'chmod' 'clone' 'close' 'connect' 'epoll_create1'\n",
      " 'epoll_ctl' 'epoll_wait' 'exit_group' 'fcntl' 'fstat' 'getcwd' 'getdents'\n",
      " 'geteuid' 'getsockname' 'getsockopt' 'lseek' 'lstat' 'mmap' 'munmap'\n",
      " 'open' 'openat' 'poll' 'procexit' 'read' 'rename' 'rt_sigaction'\n",
      " 'rt_sigprocmask' 'select' 'semop' 'set_robust_list' 'setgid' 'setgroups'\n",
      " 'setitimer' 'setuid' 'shutdown' 'socket' 'stat' 'switch' 'times' 'umask'\n",
      " 'wait4' 'write' 'writev']\n",
      "process list :\n",
      "['apache2' 'nan']\n",
      "event type list : \n",
      "['accept' 'brk' 'chdir' 'chmod' 'clone' 'close' 'connect' 'epoll_create1'\n",
      " 'epoll_ctl' 'epoll_wait' 'exit_group' 'fcntl' 'fstat' 'getcwd' 'getdents'\n",
      " 'geteuid' 'getsockname' 'getsockopt' 'lseek' 'lstat' 'mmap' 'munmap'\n",
      " 'open' 'openat' 'poll' 'procexit' 'read' 'rename' 'rt_sigaction'\n",
      " 'rt_sigprocmask' 'select' 'semop' 'set_robust_list' 'setgid' 'setgroups'\n",
      " 'setitimer' 'setuid' 'shutdown' 'socket' 'stat' 'switch' 'times' 'umask'\n",
      " 'wait4' 'write' 'writev']\n",
      "CVE-2012-2122 EDA part\n",
      "1395\n"
     ]
    },
    {
     "name": "stderr",
     "output_type": "stream",
     "text": [
      "100%|██████████████████████████████████████| 1395/1395 [00:12<00:00, 114.94it/s]\n"
     ]
    },
    {
     "name": "stdout",
     "output_type": "stream",
     "text": [
      "['mysqld' 'mysqld_safe' 'nan']\n",
      "['accept' 'access' 'clone' 'close' 'exit' 'fcntl' 'fsync' 'futex'\n",
      " 'getpeername' 'getsockname' 'madvise' 'mmap' 'mprotect' 'munmap' 'poll'\n",
      " 'procexit' 'pwrite' 'read' 'sched_yield' 'select' 'set_robust_list'\n",
      " 'setsockopt' 'shutdown' 'stat' 'switch' 'wait4' 'write']\n",
      "process list :\n",
      "['apache2' 'nan' 'mysqld' 'mysqld_safe' 'nan']\n",
      "event type list : \n",
      "['accept' 'brk' 'chdir' 'chmod' 'clone' 'close' 'connect' 'epoll_create1'\n",
      " 'epoll_ctl' 'epoll_wait' 'exit_group' 'fcntl' 'fstat' 'getcwd' 'getdents'\n",
      " 'geteuid' 'getsockname' 'getsockopt' 'lseek' 'lstat' 'mmap' 'munmap'\n",
      " 'open' 'openat' 'poll' 'procexit' 'read' 'rename' 'rt_sigaction'\n",
      " 'rt_sigprocmask' 'select' 'semop' 'set_robust_list' 'setgid' 'setgroups'\n",
      " 'setitimer' 'setuid' 'shutdown' 'socket' 'stat' 'switch' 'times' 'umask'\n",
      " 'wait4' 'write' 'writev' 'accept' 'access' 'clone' 'close' 'exit' 'fcntl'\n",
      " 'fsync' 'futex' 'getpeername' 'getsockname' 'madvise' 'mmap' 'mprotect'\n",
      " 'munmap' 'poll' 'procexit' 'pwrite' 'read' 'sched_yield' 'select'\n",
      " 'set_robust_list' 'setsockopt' 'shutdown' 'stat' 'switch' 'wait4' 'write']\n",
      "CVE-2014-0160 EDA part\n",
      "1100\n"
     ]
    },
    {
     "name": "stderr",
     "output_type": "stream",
     "text": [
      "100%|██████████████████████████████████████| 1100/1100 [00:08<00:00, 127.15it/s]\n"
     ]
    },
    {
     "name": "stdout",
     "output_type": "stream",
     "text": [
      "['apache2' 'nan']\n",
      "['accept' 'brk' 'chdir' 'chmod' 'clone' 'close' 'connect' 'epoll_create1'\n",
      " 'epoll_ctl' 'epoll_wait' 'exit_group' 'fcntl' 'fstat' 'getcwd' 'getdents'\n",
      " 'geteuid' 'getsockname' 'getsockopt' 'lseek' 'lstat' 'mmap' 'munmap'\n",
      " 'open' 'openat' 'poll' 'procexit' 'read' 'rename' 'rt_sigaction'\n",
      " 'rt_sigprocmask' 'select' 'semop' 'set_robust_list' 'setgid' 'setgroups'\n",
      " 'setitimer' 'setuid' 'shutdown' 'socket' 'stat' 'switch' 'times' 'umask'\n",
      " 'wait4' 'write' 'writev']\n",
      "process list :\n",
      "['apache2' 'nan' 'mysqld' 'mysqld_safe' 'nan' 'apache2' 'nan']\n",
      "event type list : \n",
      "['accept' 'brk' 'chdir' 'chmod' 'clone' 'close' 'connect' 'epoll_create1'\n",
      " 'epoll_ctl' 'epoll_wait' 'exit_group' 'fcntl' 'fstat' 'getcwd' 'getdents'\n",
      " 'geteuid' 'getsockname' 'getsockopt' 'lseek' 'lstat' 'mmap' 'munmap'\n",
      " 'open' 'openat' 'poll' 'procexit' 'read' 'rename' 'rt_sigaction'\n",
      " 'rt_sigprocmask' 'select' 'semop' 'set_robust_list' 'setgid' 'setgroups'\n",
      " 'setitimer' 'setuid' 'shutdown' 'socket' 'stat' 'switch' 'times' 'umask'\n",
      " 'wait4' 'write' 'writev' 'accept' 'access' 'clone' 'close' 'exit' 'fcntl'\n",
      " 'fsync' 'futex' 'getpeername' 'getsockname' 'madvise' 'mmap' 'mprotect'\n",
      " 'munmap' 'poll' 'procexit' 'pwrite' 'read' 'sched_yield' 'select'\n",
      " 'set_robust_list' 'setsockopt' 'shutdown' 'stat' 'switch' 'wait4' 'write'\n",
      " 'accept' 'brk' 'chdir' 'chmod' 'clone' 'close' 'connect' 'epoll_create1'\n",
      " 'epoll_ctl' 'epoll_wait' 'exit_group' 'fcntl' 'fstat' 'getcwd' 'getdents'\n",
      " 'geteuid' 'getsockname' 'getsockopt' 'lseek' 'lstat' 'mmap' 'munmap'\n",
      " 'open' 'openat' 'poll' 'procexit' 'read' 'rename' 'rt_sigaction'\n",
      " 'rt_sigprocmask' 'select' 'semop' 'set_robust_list' 'setgid' 'setgroups'\n",
      " 'setitimer' 'setuid' 'shutdown' 'socket' 'stat' 'switch' 'times' 'umask'\n",
      " 'wait4' 'write' 'writev']\n",
      "CVE-2017-7529 EDA part\n",
      "1157\n"
     ]
    },
    {
     "name": "stderr",
     "output_type": "stream",
     "text": [
      "100%|██████████████████████████████████████| 1157/1157 [00:04<00:00, 237.22it/s]\n"
     ]
    },
    {
     "name": "stdout",
     "output_type": "stream",
     "text": [
      "['nginx']\n",
      "['accept' 'brk' 'close' 'epoll_ctl' 'epoll_wait' 'exit_group' 'fstat'\n",
      " 'futex' 'getdents' 'gettid' 'open' 'pread' 'procexit' 'recvfrom'\n",
      " 'recvmsg' 'rt_sigsuspend' 'sendfile' 'sendmsg' 'setsockopt'\n",
      " 'signaldeliver' 'sigreturn' 'stat' 'switch' 'wait4' 'write' 'writev']\n",
      "process list :\n",
      "['apache2' 'nan' 'mysqld' 'mysqld_safe' 'nan' 'apache2' 'nan' 'nginx']\n",
      "event type list : \n",
      "['accept' 'brk' 'chdir' 'chmod' 'clone' 'close' 'connect' 'epoll_create1'\n",
      " 'epoll_ctl' 'epoll_wait' 'exit_group' 'fcntl' 'fstat' 'getcwd' 'getdents'\n",
      " 'geteuid' 'getsockname' 'getsockopt' 'lseek' 'lstat' 'mmap' 'munmap'\n",
      " 'open' 'openat' 'poll' 'procexit' 'read' 'rename' 'rt_sigaction'\n",
      " 'rt_sigprocmask' 'select' 'semop' 'set_robust_list' 'setgid' 'setgroups'\n",
      " 'setitimer' 'setuid' 'shutdown' 'socket' 'stat' 'switch' 'times' 'umask'\n",
      " 'wait4' 'write' 'writev' 'accept' 'access' 'clone' 'close' 'exit' 'fcntl'\n",
      " 'fsync' 'futex' 'getpeername' 'getsockname' 'madvise' 'mmap' 'mprotect'\n",
      " 'munmap' 'poll' 'procexit' 'pwrite' 'read' 'sched_yield' 'select'\n",
      " 'set_robust_list' 'setsockopt' 'shutdown' 'stat' 'switch' 'wait4' 'write'\n",
      " 'accept' 'brk' 'chdir' 'chmod' 'clone' 'close' 'connect' 'epoll_create1'\n",
      " 'epoll_ctl' 'epoll_wait' 'exit_group' 'fcntl' 'fstat' 'getcwd' 'getdents'\n",
      " 'geteuid' 'getsockname' 'getsockopt' 'lseek' 'lstat' 'mmap' 'munmap'\n",
      " 'open' 'openat' 'poll' 'procexit' 'read' 'rename' 'rt_sigaction'\n",
      " 'rt_sigprocmask' 'select' 'semop' 'set_robust_list' 'setgid' 'setgroups'\n",
      " 'setitimer' 'setuid' 'shutdown' 'socket' 'stat' 'switch' 'times' 'umask'\n",
      " 'wait4' 'write' 'writev' 'accept' 'brk' 'close' 'epoll_ctl' 'epoll_wait'\n",
      " 'exit_group' 'fstat' 'futex' 'getdents' 'gettid' 'open' 'pread'\n",
      " 'procexit' 'recvfrom' 'recvmsg' 'rt_sigsuspend' 'sendfile' 'sendmsg'\n",
      " 'setsockopt' 'signaldeliver' 'sigreturn' 'stat' 'switch' 'wait4' 'write'\n",
      " 'writev']\n",
      "CVE-2018-3760 EDA part\n",
      "1221\n"
     ]
    },
    {
     "name": "stderr",
     "output_type": "stream",
     "text": [
      "100%|███████████████████████████████████████| 1221/1221 [00:27<00:00, 44.73it/s]\n"
     ]
    },
    {
     "name": "stdout",
     "output_type": "stream",
     "text": [
      "['puma' 'reactor.rb:249' 'ruby-timer-thr' 'server.rb:358'\n",
      " 'thread_pool.rb*' 'tmp_restart.rb*']\n",
      "['accept' 'close' 'fcntl' 'fstat' 'futex' 'getdents' 'getpeername'\n",
      " 'getpid' 'getrandom' 'getsockname' 'getsockopt' 'ioctl' 'lseek' 'lstat'\n",
      " 'madvise' 'mkdir' 'mmap' 'mprotect' 'newfstatat' 'open' 'openat' 'poll'\n",
      " 'pread' 'read' 'recvfrom' 'rename' 'sched_yield' 'select' 'setsockopt'\n",
      " 'stat' 'switch' 'write']\n",
      "process list :\n",
      "['apache2' 'nan' 'mysqld' 'mysqld_safe' 'nan' 'apache2' 'nan' 'nginx'\n",
      " 'puma' 'reactor.rb:249' 'ruby-timer-thr' 'server.rb:358'\n",
      " 'thread_pool.rb*' 'tmp_restart.rb*']\n",
      "event type list : \n",
      "['accept' 'brk' 'chdir' 'chmod' 'clone' 'close' 'connect' 'epoll_create1'\n",
      " 'epoll_ctl' 'epoll_wait' 'exit_group' 'fcntl' 'fstat' 'getcwd' 'getdents'\n",
      " 'geteuid' 'getsockname' 'getsockopt' 'lseek' 'lstat' 'mmap' 'munmap'\n",
      " 'open' 'openat' 'poll' 'procexit' 'read' 'rename' 'rt_sigaction'\n",
      " 'rt_sigprocmask' 'select' 'semop' 'set_robust_list' 'setgid' 'setgroups'\n",
      " 'setitimer' 'setuid' 'shutdown' 'socket' 'stat' 'switch' 'times' 'umask'\n",
      " 'wait4' 'write' 'writev' 'accept' 'access' 'clone' 'close' 'exit' 'fcntl'\n",
      " 'fsync' 'futex' 'getpeername' 'getsockname' 'madvise' 'mmap' 'mprotect'\n",
      " 'munmap' 'poll' 'procexit' 'pwrite' 'read' 'sched_yield' 'select'\n",
      " 'set_robust_list' 'setsockopt' 'shutdown' 'stat' 'switch' 'wait4' 'write'\n",
      " 'accept' 'brk' 'chdir' 'chmod' 'clone' 'close' 'connect' 'epoll_create1'\n",
      " 'epoll_ctl' 'epoll_wait' 'exit_group' 'fcntl' 'fstat' 'getcwd' 'getdents'\n",
      " 'geteuid' 'getsockname' 'getsockopt' 'lseek' 'lstat' 'mmap' 'munmap'\n",
      " 'open' 'openat' 'poll' 'procexit' 'read' 'rename' 'rt_sigaction'\n",
      " 'rt_sigprocmask' 'select' 'semop' 'set_robust_list' 'setgid' 'setgroups'\n",
      " 'setitimer' 'setuid' 'shutdown' 'socket' 'stat' 'switch' 'times' 'umask'\n",
      " 'wait4' 'write' 'writev' 'accept' 'brk' 'close' 'epoll_ctl' 'epoll_wait'\n",
      " 'exit_group' 'fstat' 'futex' 'getdents' 'gettid' 'open' 'pread'\n",
      " 'procexit' 'recvfrom' 'recvmsg' 'rt_sigsuspend' 'sendfile' 'sendmsg'\n",
      " 'setsockopt' 'signaldeliver' 'sigreturn' 'stat' 'switch' 'wait4' 'write'\n",
      " 'writev' 'accept' 'close' 'fcntl' 'fstat' 'futex' 'getdents'\n",
      " 'getpeername' 'getpid' 'getrandom' 'getsockname' 'getsockopt' 'ioctl'\n",
      " 'lseek' 'lstat' 'madvise' 'mkdir' 'mmap' 'mprotect' 'newfstatat' 'open'\n",
      " 'openat' 'poll' 'pread' 'read' 'recvfrom' 'rename' 'sched_yield' 'select'\n",
      " 'setsockopt' 'stat' 'switch' 'write']\n",
      "CVE-2019-5418 EDA part\n",
      "1079\n"
     ]
    },
    {
     "name": "stderr",
     "output_type": "stream",
     "text": [
      "100%|███████████████████████████████████████| 1079/1079 [00:26<00:00, 41.05it/s]\n"
     ]
    },
    {
     "name": "stdout",
     "output_type": "stream",
     "text": [
      "['connection_poo*' 'puma' 'reactor.rb:249' 'ruby-timer-thr'\n",
      " 'server.rb:358' 'thread_pool.rb*' 'tmp_restart.rb*']\n",
      "['accept' 'close' 'fcntl' 'fstat' 'futex' 'getdents' 'getpeername'\n",
      " 'getpid' 'getrandom' 'getsockname' 'getsockopt' 'ioctl' 'lseek' 'lstat'\n",
      " 'madvise' 'mprotect' 'newfstatat' 'open' 'openat' 'poll' 'pread' 'read'\n",
      " 'recvfrom' 'rename' 'sched_yield' 'select' 'setsockopt' 'stat' 'switch'\n",
      " 'unlink' 'write']\n",
      "process list :\n",
      "['apache2' 'nan' 'mysqld' 'mysqld_safe' 'nan' 'apache2' 'nan' 'nginx'\n",
      " 'puma' 'reactor.rb:249' 'ruby-timer-thr' 'server.rb:358'\n",
      " 'thread_pool.rb*' 'tmp_restart.rb*' 'connection_poo*' 'puma'\n",
      " 'reactor.rb:249' 'ruby-timer-thr' 'server.rb:358' 'thread_pool.rb*'\n",
      " 'tmp_restart.rb*']\n",
      "event type list : \n",
      "['accept' 'brk' 'chdir' 'chmod' 'clone' 'close' 'connect' 'epoll_create1'\n",
      " 'epoll_ctl' 'epoll_wait' 'exit_group' 'fcntl' 'fstat' 'getcwd' 'getdents'\n",
      " 'geteuid' 'getsockname' 'getsockopt' 'lseek' 'lstat' 'mmap' 'munmap'\n",
      " 'open' 'openat' 'poll' 'procexit' 'read' 'rename' 'rt_sigaction'\n",
      " 'rt_sigprocmask' 'select' 'semop' 'set_robust_list' 'setgid' 'setgroups'\n",
      " 'setitimer' 'setuid' 'shutdown' 'socket' 'stat' 'switch' 'times' 'umask'\n",
      " 'wait4' 'write' 'writev' 'accept' 'access' 'clone' 'close' 'exit' 'fcntl'\n",
      " 'fsync' 'futex' 'getpeername' 'getsockname' 'madvise' 'mmap' 'mprotect'\n",
      " 'munmap' 'poll' 'procexit' 'pwrite' 'read' 'sched_yield' 'select'\n",
      " 'set_robust_list' 'setsockopt' 'shutdown' 'stat' 'switch' 'wait4' 'write'\n",
      " 'accept' 'brk' 'chdir' 'chmod' 'clone' 'close' 'connect' 'epoll_create1'\n",
      " 'epoll_ctl' 'epoll_wait' 'exit_group' 'fcntl' 'fstat' 'getcwd' 'getdents'\n",
      " 'geteuid' 'getsockname' 'getsockopt' 'lseek' 'lstat' 'mmap' 'munmap'\n",
      " 'open' 'openat' 'poll' 'procexit' 'read' 'rename' 'rt_sigaction'\n",
      " 'rt_sigprocmask' 'select' 'semop' 'set_robust_list' 'setgid' 'setgroups'\n",
      " 'setitimer' 'setuid' 'shutdown' 'socket' 'stat' 'switch' 'times' 'umask'\n",
      " 'wait4' 'write' 'writev' 'accept' 'brk' 'close' 'epoll_ctl' 'epoll_wait'\n",
      " 'exit_group' 'fstat' 'futex' 'getdents' 'gettid' 'open' 'pread'\n",
      " 'procexit' 'recvfrom' 'recvmsg' 'rt_sigsuspend' 'sendfile' 'sendmsg'\n",
      " 'setsockopt' 'signaldeliver' 'sigreturn' 'stat' 'switch' 'wait4' 'write'\n",
      " 'writev' 'accept' 'close' 'fcntl' 'fstat' 'futex' 'getdents'\n",
      " 'getpeername' 'getpid' 'getrandom' 'getsockname' 'getsockopt' 'ioctl'\n",
      " 'lseek' 'lstat' 'madvise' 'mkdir' 'mmap' 'mprotect' 'newfstatat' 'open'\n",
      " 'openat' 'poll' 'pread' 'read' 'recvfrom' 'rename' 'sched_yield' 'select'\n",
      " 'setsockopt' 'stat' 'switch' 'write' 'accept' 'close' 'fcntl' 'fstat'\n",
      " 'futex' 'getdents' 'getpeername' 'getpid' 'getrandom' 'getsockname'\n",
      " 'getsockopt' 'ioctl' 'lseek' 'lstat' 'madvise' 'mprotect' 'newfstatat'\n",
      " 'open' 'openat' 'poll' 'pread' 'read' 'recvfrom' 'rename' 'sched_yield'\n",
      " 'select' 'setsockopt' 'stat' 'switch' 'unlink' 'write']\n",
      "EPS_CWE-434 EDA part\n",
      "1071\n"
     ]
    },
    {
     "name": "stderr",
     "output_type": "stream",
     "text": [
      "100%|███████████████████████████████████████| 1071/1071 [03:13<00:00,  5.54it/s]\n"
     ]
    },
    {
     "name": "stdout",
     "output_type": "stream",
     "text": [
      "['gs' 'nan' 'pstoedit' 'python3' 'sh' 'wget']\n",
      "['accept' 'access' 'arch_prctl' 'brk' 'clock_getres' 'clone' 'close'\n",
      " 'connect' 'dup' 'execve' 'exit_group' 'fcntl' 'flock' 'fstat' 'ftruncate'\n",
      " 'futex' 'getdents' 'getdents64' 'getegid' 'geteuid' 'getgid' 'getpid'\n",
      " 'getppid' 'getrlimit' 'getrusage' 'getuid' 'ioctl' 'lseek' 'mmap'\n",
      " 'mprotect' 'mremap' 'munmap' 'open' 'pipe' 'poll' 'procexit' 'read'\n",
      " 'recvfrom' 'rt_sigaction' 'rt_sigprocmask' 'sched_getaffinity' 'select'\n",
      " 'sendmmsg' 'sendto' 'set_robust_list' 'set_tid_address' 'setitimer'\n",
      " 'shutdown' 'signaldeliver' 'sigreturn' 'socket' 'stat' 'statfs' 'switch'\n",
      " 'sysinfo' 'umask' 'unlink' 'wait4' 'write' 'writev']\n",
      "process list :\n",
      "['apache2' 'nan' 'mysqld' 'mysqld_safe' 'nan' 'apache2' 'nan' 'nginx'\n",
      " 'puma' 'reactor.rb:249' 'ruby-timer-thr' 'server.rb:358'\n",
      " 'thread_pool.rb*' 'tmp_restart.rb*' 'connection_poo*' 'puma'\n",
      " 'reactor.rb:249' 'ruby-timer-thr' 'server.rb:358' 'thread_pool.rb*'\n",
      " 'tmp_restart.rb*' 'gs' 'nan' 'pstoedit' 'python3' 'sh' 'wget']\n",
      "event type list : \n",
      "['accept' 'brk' 'chdir' 'chmod' 'clone' 'close' 'connect' 'epoll_create1'\n",
      " 'epoll_ctl' 'epoll_wait' 'exit_group' 'fcntl' 'fstat' 'getcwd' 'getdents'\n",
      " 'geteuid' 'getsockname' 'getsockopt' 'lseek' 'lstat' 'mmap' 'munmap'\n",
      " 'open' 'openat' 'poll' 'procexit' 'read' 'rename' 'rt_sigaction'\n",
      " 'rt_sigprocmask' 'select' 'semop' 'set_robust_list' 'setgid' 'setgroups'\n",
      " 'setitimer' 'setuid' 'shutdown' 'socket' 'stat' 'switch' 'times' 'umask'\n",
      " 'wait4' 'write' 'writev' 'accept' 'access' 'clone' 'close' 'exit' 'fcntl'\n",
      " 'fsync' 'futex' 'getpeername' 'getsockname' 'madvise' 'mmap' 'mprotect'\n",
      " 'munmap' 'poll' 'procexit' 'pwrite' 'read' 'sched_yield' 'select'\n",
      " 'set_robust_list' 'setsockopt' 'shutdown' 'stat' 'switch' 'wait4' 'write'\n",
      " 'accept' 'brk' 'chdir' 'chmod' 'clone' 'close' 'connect' 'epoll_create1'\n",
      " 'epoll_ctl' 'epoll_wait' 'exit_group' 'fcntl' 'fstat' 'getcwd' 'getdents'\n",
      " 'geteuid' 'getsockname' 'getsockopt' 'lseek' 'lstat' 'mmap' 'munmap'\n",
      " 'open' 'openat' 'poll' 'procexit' 'read' 'rename' 'rt_sigaction'\n",
      " 'rt_sigprocmask' 'select' 'semop' 'set_robust_list' 'setgid' 'setgroups'\n",
      " 'setitimer' 'setuid' 'shutdown' 'socket' 'stat' 'switch' 'times' 'umask'\n",
      " 'wait4' 'write' 'writev' 'accept' 'brk' 'close' 'epoll_ctl' 'epoll_wait'\n",
      " 'exit_group' 'fstat' 'futex' 'getdents' 'gettid' 'open' 'pread'\n",
      " 'procexit' 'recvfrom' 'recvmsg' 'rt_sigsuspend' 'sendfile' 'sendmsg'\n",
      " 'setsockopt' 'signaldeliver' 'sigreturn' 'stat' 'switch' 'wait4' 'write'\n",
      " 'writev' 'accept' 'close' 'fcntl' 'fstat' 'futex' 'getdents'\n",
      " 'getpeername' 'getpid' 'getrandom' 'getsockname' 'getsockopt' 'ioctl'\n",
      " 'lseek' 'lstat' 'madvise' 'mkdir' 'mmap' 'mprotect' 'newfstatat' 'open'\n",
      " 'openat' 'poll' 'pread' 'read' 'recvfrom' 'rename' 'sched_yield' 'select'\n",
      " 'setsockopt' 'stat' 'switch' 'write' 'accept' 'close' 'fcntl' 'fstat'\n",
      " 'futex' 'getdents' 'getpeername' 'getpid' 'getrandom' 'getsockname'\n",
      " 'getsockopt' 'ioctl' 'lseek' 'lstat' 'madvise' 'mprotect' 'newfstatat'\n",
      " 'open' 'openat' 'poll' 'pread' 'read' 'recvfrom' 'rename' 'sched_yield'\n",
      " 'select' 'setsockopt' 'stat' 'switch' 'unlink' 'write' 'accept' 'access'\n",
      " 'arch_prctl' 'brk' 'clock_getres' 'clone' 'close' 'connect' 'dup'\n",
      " 'execve' 'exit_group' 'fcntl' 'flock' 'fstat' 'ftruncate' 'futex'\n",
      " 'getdents' 'getdents64' 'getegid' 'geteuid' 'getgid' 'getpid' 'getppid'\n",
      " 'getrlimit' 'getrusage' 'getuid' 'ioctl' 'lseek' 'mmap' 'mprotect'\n",
      " 'mremap' 'munmap' 'open' 'pipe' 'poll' 'procexit' 'read' 'recvfrom'\n",
      " 'rt_sigaction' 'rt_sigprocmask' 'sched_getaffinity' 'select' 'sendmmsg'\n",
      " 'sendto' 'set_robust_list' 'set_tid_address' 'setitimer' 'shutdown'\n",
      " 'signaldeliver' 'sigreturn' 'socket' 'stat' 'statfs' 'switch' 'sysinfo'\n",
      " 'umask' 'unlink' 'wait4' 'write' 'writev']\n",
      "PHP_CWE-434 EDA part\n",
      "1112\n"
     ]
    },
    {
     "name": "stderr",
     "output_type": "stream",
     "text": [
      "100%|███████████████████████████████████████| 1112/1112 [00:41<00:00, 26.55it/s]\n"
     ]
    },
    {
     "name": "stdout",
     "output_type": "stream",
     "text": [
      "['apache2' 'id' 'mysqld' 'nan' 'sh' 'uname' 'wget']\n",
      "['accept' 'access' 'arch_prctl' 'brk' 'chdir' 'chmod' 'clock_getres'\n",
      " 'clone' 'close' 'connect' 'dup' 'epoll_create1' 'epoll_ctl' 'execve'\n",
      " 'exit_group' 'fcntl' 'fdatasync' 'flock' 'fstat' 'fstatfs' 'fsync'\n",
      " 'ftruncate' 'futex' 'getcwd' 'getdents' 'getegid' 'geteuid' 'getgid'\n",
      " 'getgroups' 'getpeername' 'getpid' 'getppid' 'getrandom' 'getrlimit'\n",
      " 'getrusage' 'getsockname' 'getsockopt' 'gettid' 'getuid' 'io_getevents'\n",
      " 'io_submit' 'ioctl' 'lseek' 'lstat' 'madvise' 'mkdir' 'mmap' 'mprotect'\n",
      " 'munmap' 'nanosleep' 'open' 'pipe' 'poll' 'pread' 'procexit' 'pwrite'\n",
      " 'read' 'readlink' 'recvfrom' 'rename' 'rmdir' 'rt_sigaction'\n",
      " 'rt_sigprocmask' 'sched_yield' 'select' 'sendmmsg' 'sendmsg' 'sendto'\n",
      " 'set_robust_list' 'set_tid_address' 'setgid' 'setgroups' 'setitimer'\n",
      " 'setsockopt' 'setuid' 'shutdown' 'signaldeliver' 'sigreturn' 'socket'\n",
      " 'stat' 'statfs' 'switch' 'times' 'umask' 'uname' 'unlink' 'utime' 'wait4'\n",
      " 'write' 'writev']\n",
      "process list :\n",
      "['apache2' 'nan' 'mysqld' 'mysqld_safe' 'nan' 'apache2' 'nan' 'nginx'\n",
      " 'puma' 'reactor.rb:249' 'ruby-timer-thr' 'server.rb:358'\n",
      " 'thread_pool.rb*' 'tmp_restart.rb*' 'connection_poo*' 'puma'\n",
      " 'reactor.rb:249' 'ruby-timer-thr' 'server.rb:358' 'thread_pool.rb*'\n",
      " 'tmp_restart.rb*' 'gs' 'nan' 'pstoedit' 'python3' 'sh' 'wget' 'apache2'\n",
      " 'id' 'mysqld' 'nan' 'sh' 'uname' 'wget']\n",
      "event type list : \n",
      "['accept' 'brk' 'chdir' 'chmod' 'clone' 'close' 'connect' 'epoll_create1'\n",
      " 'epoll_ctl' 'epoll_wait' 'exit_group' 'fcntl' 'fstat' 'getcwd' 'getdents'\n",
      " 'geteuid' 'getsockname' 'getsockopt' 'lseek' 'lstat' 'mmap' 'munmap'\n",
      " 'open' 'openat' 'poll' 'procexit' 'read' 'rename' 'rt_sigaction'\n",
      " 'rt_sigprocmask' 'select' 'semop' 'set_robust_list' 'setgid' 'setgroups'\n",
      " 'setitimer' 'setuid' 'shutdown' 'socket' 'stat' 'switch' 'times' 'umask'\n",
      " 'wait4' 'write' 'writev' 'accept' 'access' 'clone' 'close' 'exit' 'fcntl'\n",
      " 'fsync' 'futex' 'getpeername' 'getsockname' 'madvise' 'mmap' 'mprotect'\n",
      " 'munmap' 'poll' 'procexit' 'pwrite' 'read' 'sched_yield' 'select'\n",
      " 'set_robust_list' 'setsockopt' 'shutdown' 'stat' 'switch' 'wait4' 'write'\n",
      " 'accept' 'brk' 'chdir' 'chmod' 'clone' 'close' 'connect' 'epoll_create1'\n",
      " 'epoll_ctl' 'epoll_wait' 'exit_group' 'fcntl' 'fstat' 'getcwd' 'getdents'\n",
      " 'geteuid' 'getsockname' 'getsockopt' 'lseek' 'lstat' 'mmap' 'munmap'\n",
      " 'open' 'openat' 'poll' 'procexit' 'read' 'rename' 'rt_sigaction'\n",
      " 'rt_sigprocmask' 'select' 'semop' 'set_robust_list' 'setgid' 'setgroups'\n",
      " 'setitimer' 'setuid' 'shutdown' 'socket' 'stat' 'switch' 'times' 'umask'\n",
      " 'wait4' 'write' 'writev' 'accept' 'brk' 'close' 'epoll_ctl' 'epoll_wait'\n",
      " 'exit_group' 'fstat' 'futex' 'getdents' 'gettid' 'open' 'pread'\n",
      " 'procexit' 'recvfrom' 'recvmsg' 'rt_sigsuspend' 'sendfile' 'sendmsg'\n",
      " 'setsockopt' 'signaldeliver' 'sigreturn' 'stat' 'switch' 'wait4' 'write'\n",
      " 'writev' 'accept' 'close' 'fcntl' 'fstat' 'futex' 'getdents'\n",
      " 'getpeername' 'getpid' 'getrandom' 'getsockname' 'getsockopt' 'ioctl'\n",
      " 'lseek' 'lstat' 'madvise' 'mkdir' 'mmap' 'mprotect' 'newfstatat' 'open'\n",
      " 'openat' 'poll' 'pread' 'read' 'recvfrom' 'rename' 'sched_yield' 'select'\n",
      " 'setsockopt' 'stat' 'switch' 'write' 'accept' 'close' 'fcntl' 'fstat'\n",
      " 'futex' 'getdents' 'getpeername' 'getpid' 'getrandom' 'getsockname'\n",
      " 'getsockopt' 'ioctl' 'lseek' 'lstat' 'madvise' 'mprotect' 'newfstatat'\n",
      " 'open' 'openat' 'poll' 'pread' 'read' 'recvfrom' 'rename' 'sched_yield'\n",
      " 'select' 'setsockopt' 'stat' 'switch' 'unlink' 'write' 'accept' 'access'\n",
      " 'arch_prctl' 'brk' 'clock_getres' 'clone' 'close' 'connect' 'dup'\n",
      " 'execve' 'exit_group' 'fcntl' 'flock' 'fstat' 'ftruncate' 'futex'\n",
      " 'getdents' 'getdents64' 'getegid' 'geteuid' 'getgid' 'getpid' 'getppid'\n",
      " 'getrlimit' 'getrusage' 'getuid' 'ioctl' 'lseek' 'mmap' 'mprotect'\n",
      " 'mremap' 'munmap' 'open' 'pipe' 'poll' 'procexit' 'read' 'recvfrom'\n",
      " 'rt_sigaction' 'rt_sigprocmask' 'sched_getaffinity' 'select' 'sendmmsg'\n",
      " 'sendto' 'set_robust_list' 'set_tid_address' 'setitimer' 'shutdown'\n",
      " 'signaldeliver' 'sigreturn' 'socket' 'stat' 'statfs' 'switch' 'sysinfo'\n",
      " 'umask' 'unlink' 'wait4' 'write' 'writev' 'accept' 'access' 'arch_prctl'\n",
      " 'brk' 'chdir' 'chmod' 'clock_getres' 'clone' 'close' 'connect' 'dup'\n",
      " 'epoll_create1' 'epoll_ctl' 'execve' 'exit_group' 'fcntl' 'fdatasync'\n",
      " 'flock' 'fstat' 'fstatfs' 'fsync' 'ftruncate' 'futex' 'getcwd' 'getdents'\n",
      " 'getegid' 'geteuid' 'getgid' 'getgroups' 'getpeername' 'getpid' 'getppid'\n",
      " 'getrandom' 'getrlimit' 'getrusage' 'getsockname' 'getsockopt' 'gettid'\n",
      " 'getuid' 'io_getevents' 'io_submit' 'ioctl' 'lseek' 'lstat' 'madvise'\n",
      " 'mkdir' 'mmap' 'mprotect' 'munmap' 'nanosleep' 'open' 'pipe' 'poll'\n",
      " 'pread' 'procexit' 'pwrite' 'read' 'readlink' 'recvfrom' 'rename' 'rmdir'\n",
      " 'rt_sigaction' 'rt_sigprocmask' 'sched_yield' 'select' 'sendmmsg'\n",
      " 'sendmsg' 'sendto' 'set_robust_list' 'set_tid_address' 'setgid'\n",
      " 'setgroups' 'setitimer' 'setsockopt' 'setuid' 'shutdown' 'signaldeliver'\n",
      " 'sigreturn' 'socket' 'stat' 'statfs' 'switch' 'times' 'umask' 'uname'\n",
      " 'unlink' 'utime' 'wait4' 'write' 'writev']\n",
      "SQL_Injection_CWE-89 EDA part\n",
      "1078\n"
     ]
    },
    {
     "name": "stderr",
     "output_type": "stream",
     "text": [
      "100%|███████████████████████████████████████| 1078/1078 [00:43<00:00, 24.84it/s]\n"
     ]
    },
    {
     "name": "stdout",
     "output_type": "stream",
     "text": [
      "['apache2' 'mysqld' 'nan']\n",
      "['accept' 'access' 'brk' 'chdir' 'clone' 'close' 'connect' 'epoll_create1'\n",
      " 'epoll_ctl' 'exit_group' 'fcntl' 'flock' 'fstat' 'fsync' 'ftruncate'\n",
      " 'futex' 'getcwd' 'getdents' 'geteuid' 'getpeername' 'getpid'\n",
      " 'getsockname' 'getsockopt' 'gettid' 'getuid' 'io_getevents' 'io_submit'\n",
      " 'lseek' 'lstat' 'madvise' 'mmap' 'mprotect' 'munmap' 'nanosleep' 'open'\n",
      " 'openat' 'poll' 'pread' 'procexit' 'pwrite' 'read' 'recvfrom'\n",
      " 'rt_sigaction' 'rt_sigprocmask' 'sched_yield' 'select' 'sendto'\n",
      " 'set_robust_list' 'setgid' 'setgroups' 'setitimer' 'setsockopt' 'setuid'\n",
      " 'shutdown' 'socket' 'stat' 'switch' 'times' 'unlink' 'utime' 'wait4'\n",
      " 'write' 'writev']\n",
      "process list :\n",
      "['apache2' 'nan' 'mysqld' 'mysqld_safe' 'nan' 'apache2' 'nan' 'nginx'\n",
      " 'puma' 'reactor.rb:249' 'ruby-timer-thr' 'server.rb:358'\n",
      " 'thread_pool.rb*' 'tmp_restart.rb*' 'connection_poo*' 'puma'\n",
      " 'reactor.rb:249' 'ruby-timer-thr' 'server.rb:358' 'thread_pool.rb*'\n",
      " 'tmp_restart.rb*' 'gs' 'nan' 'pstoedit' 'python3' 'sh' 'wget' 'apache2'\n",
      " 'id' 'mysqld' 'nan' 'sh' 'uname' 'wget' 'apache2' 'mysqld' 'nan']\n",
      "event type list : \n",
      "['accept' 'brk' 'chdir' 'chmod' 'clone' 'close' 'connect' 'epoll_create1'\n",
      " 'epoll_ctl' 'epoll_wait' 'exit_group' 'fcntl' 'fstat' 'getcwd' 'getdents'\n",
      " 'geteuid' 'getsockname' 'getsockopt' 'lseek' 'lstat' 'mmap' 'munmap'\n",
      " 'open' 'openat' 'poll' 'procexit' 'read' 'rename' 'rt_sigaction'\n",
      " 'rt_sigprocmask' 'select' 'semop' 'set_robust_list' 'setgid' 'setgroups'\n",
      " 'setitimer' 'setuid' 'shutdown' 'socket' 'stat' 'switch' 'times' 'umask'\n",
      " 'wait4' 'write' 'writev' 'accept' 'access' 'clone' 'close' 'exit' 'fcntl'\n",
      " 'fsync' 'futex' 'getpeername' 'getsockname' 'madvise' 'mmap' 'mprotect'\n",
      " 'munmap' 'poll' 'procexit' 'pwrite' 'read' 'sched_yield' 'select'\n",
      " 'set_robust_list' 'setsockopt' 'shutdown' 'stat' 'switch' 'wait4' 'write'\n",
      " 'accept' 'brk' 'chdir' 'chmod' 'clone' 'close' 'connect' 'epoll_create1'\n",
      " 'epoll_ctl' 'epoll_wait' 'exit_group' 'fcntl' 'fstat' 'getcwd' 'getdents'\n",
      " 'geteuid' 'getsockname' 'getsockopt' 'lseek' 'lstat' 'mmap' 'munmap'\n",
      " 'open' 'openat' 'poll' 'procexit' 'read' 'rename' 'rt_sigaction'\n",
      " 'rt_sigprocmask' 'select' 'semop' 'set_robust_list' 'setgid' 'setgroups'\n",
      " 'setitimer' 'setuid' 'shutdown' 'socket' 'stat' 'switch' 'times' 'umask'\n",
      " 'wait4' 'write' 'writev' 'accept' 'brk' 'close' 'epoll_ctl' 'epoll_wait'\n",
      " 'exit_group' 'fstat' 'futex' 'getdents' 'gettid' 'open' 'pread'\n",
      " 'procexit' 'recvfrom' 'recvmsg' 'rt_sigsuspend' 'sendfile' 'sendmsg'\n",
      " 'setsockopt' 'signaldeliver' 'sigreturn' 'stat' 'switch' 'wait4' 'write'\n",
      " 'writev' 'accept' 'close' 'fcntl' 'fstat' 'futex' 'getdents'\n",
      " 'getpeername' 'getpid' 'getrandom' 'getsockname' 'getsockopt' 'ioctl'\n",
      " 'lseek' 'lstat' 'madvise' 'mkdir' 'mmap' 'mprotect' 'newfstatat' 'open'\n",
      " 'openat' 'poll' 'pread' 'read' 'recvfrom' 'rename' 'sched_yield' 'select'\n",
      " 'setsockopt' 'stat' 'switch' 'write' 'accept' 'close' 'fcntl' 'fstat'\n",
      " 'futex' 'getdents' 'getpeername' 'getpid' 'getrandom' 'getsockname'\n",
      " 'getsockopt' 'ioctl' 'lseek' 'lstat' 'madvise' 'mprotect' 'newfstatat'\n",
      " 'open' 'openat' 'poll' 'pread' 'read' 'recvfrom' 'rename' 'sched_yield'\n",
      " 'select' 'setsockopt' 'stat' 'switch' 'unlink' 'write' 'accept' 'access'\n",
      " 'arch_prctl' 'brk' 'clock_getres' 'clone' 'close' 'connect' 'dup'\n",
      " 'execve' 'exit_group' 'fcntl' 'flock' 'fstat' 'ftruncate' 'futex'\n",
      " 'getdents' 'getdents64' 'getegid' 'geteuid' 'getgid' 'getpid' 'getppid'\n",
      " 'getrlimit' 'getrusage' 'getuid' 'ioctl' 'lseek' 'mmap' 'mprotect'\n",
      " 'mremap' 'munmap' 'open' 'pipe' 'poll' 'procexit' 'read' 'recvfrom'\n",
      " 'rt_sigaction' 'rt_sigprocmask' 'sched_getaffinity' 'select' 'sendmmsg'\n",
      " 'sendto' 'set_robust_list' 'set_tid_address' 'setitimer' 'shutdown'\n",
      " 'signaldeliver' 'sigreturn' 'socket' 'stat' 'statfs' 'switch' 'sysinfo'\n",
      " 'umask' 'unlink' 'wait4' 'write' 'writev' 'accept' 'access' 'arch_prctl'\n",
      " 'brk' 'chdir' 'chmod' 'clock_getres' 'clone' 'close' 'connect' 'dup'\n",
      " 'epoll_create1' 'epoll_ctl' 'execve' 'exit_group' 'fcntl' 'fdatasync'\n",
      " 'flock' 'fstat' 'fstatfs' 'fsync' 'ftruncate' 'futex' 'getcwd' 'getdents'\n",
      " 'getegid' 'geteuid' 'getgid' 'getgroups' 'getpeername' 'getpid' 'getppid'\n",
      " 'getrandom' 'getrlimit' 'getrusage' 'getsockname' 'getsockopt' 'gettid'\n",
      " 'getuid' 'io_getevents' 'io_submit' 'ioctl' 'lseek' 'lstat' 'madvise'\n",
      " 'mkdir' 'mmap' 'mprotect' 'munmap' 'nanosleep' 'open' 'pipe' 'poll'\n",
      " 'pread' 'procexit' 'pwrite' 'read' 'readlink' 'recvfrom' 'rename' 'rmdir'\n",
      " 'rt_sigaction' 'rt_sigprocmask' 'sched_yield' 'select' 'sendmmsg'\n",
      " 'sendmsg' 'sendto' 'set_robust_list' 'set_tid_address' 'setgid'\n",
      " 'setgroups' 'setitimer' 'setsockopt' 'setuid' 'shutdown' 'signaldeliver'\n",
      " 'sigreturn' 'socket' 'stat' 'statfs' 'switch' 'times' 'umask' 'uname'\n",
      " 'unlink' 'utime' 'wait4' 'write' 'writev' 'accept' 'access' 'brk' 'chdir'\n",
      " 'clone' 'close' 'connect' 'epoll_create1' 'epoll_ctl' 'exit_group'\n",
      " 'fcntl' 'flock' 'fstat' 'fsync' 'ftruncate' 'futex' 'getcwd' 'getdents'\n",
      " 'geteuid' 'getpeername' 'getpid' 'getsockname' 'getsockopt' 'gettid'\n",
      " 'getuid' 'io_getevents' 'io_submit' 'lseek' 'lstat' 'madvise' 'mmap'\n",
      " 'mprotect' 'munmap' 'nanosleep' 'open' 'openat' 'poll' 'pread' 'procexit'\n",
      " 'pwrite' 'read' 'recvfrom' 'rt_sigaction' 'rt_sigprocmask' 'sched_yield'\n",
      " 'select' 'sendto' 'set_robust_list' 'setgid' 'setgroups' 'setitimer'\n",
      " 'setsockopt' 'setuid' 'shutdown' 'socket' 'stat' 'switch' 'times'\n",
      " 'unlink' 'utime' 'wait4' 'write' 'writev']\n",
      "ZipSlip EDA part\n",
      "1063\n"
     ]
    },
    {
     "name": "stderr",
     "output_type": "stream",
     "text": [
      "100%|███████████████████████████████████████| 1063/1063 [06:31<00:00,  2.72it/s]"
     ]
    },
    {
     "name": "stdout",
     "output_type": "stream",
     "text": [
      "['C1' 'C2' 'Common-Cleaner' 'Finalizer' 'G1' 'GC' 'Reference' 'Service'\n",
      " 'Signal' 'Sweeper' 'VM' 'java' 'nan' 'python3']\n",
      "['accept' 'access' 'arch_prctl' 'brk' 'clock_getres' 'clone' 'close'\n",
      " 'connect' 'execve' 'exit' 'exit_group' 'fchdir' 'fcntl' 'fstat'\n",
      " 'ftruncate' 'futex' 'getcwd' 'getdents' 'getdents64' 'geteuid'\n",
      " 'getrlimit' 'getrusage' 'gettid' 'getuid' 'ioctl' 'kill' 'lseek' 'lstat'\n",
      " 'madvise' 'mkdir' 'mmap' 'mprotect' 'munmap' 'nanosleep' 'open' 'pipe'\n",
      " 'poll' 'prctl' 'pread' 'procexit' 'read' 'readlink' 'recvfrom'\n",
      " 'rt_sigaction' 'rt_sigprocmask' 'sched_getaffinity' 'sched_yield'\n",
      " 'sendto' 'set_robust_list' 'set_tid_address' 'setrlimit' 'shutdown'\n",
      " 'signaldeliver' 'sigreturn' 'socket' 'stat' 'switch' 'sysinfo' 'uname'\n",
      " 'unlink' 'wait4' 'write']\n",
      "process list :\n",
      "['apache2' 'nan' 'mysqld' 'mysqld_safe' 'nan' 'apache2' 'nan' 'nginx'\n",
      " 'puma' 'reactor.rb:249' 'ruby-timer-thr' 'server.rb:358'\n",
      " 'thread_pool.rb*' 'tmp_restart.rb*' 'connection_poo*' 'puma'\n",
      " 'reactor.rb:249' 'ruby-timer-thr' 'server.rb:358' 'thread_pool.rb*'\n",
      " 'tmp_restart.rb*' 'gs' 'nan' 'pstoedit' 'python3' 'sh' 'wget' 'apache2'\n",
      " 'id' 'mysqld' 'nan' 'sh' 'uname' 'wget' 'apache2' 'mysqld' 'nan' 'C1'\n",
      " 'C2' 'Common-Cleaner' 'Finalizer' 'G1' 'GC' 'Reference' 'Service'\n",
      " 'Signal' 'Sweeper' 'VM' 'java' 'nan' 'python3']\n",
      "event type list : \n",
      "['accept' 'brk' 'chdir' 'chmod' 'clone' 'close' 'connect' 'epoll_create1'\n",
      " 'epoll_ctl' 'epoll_wait' 'exit_group' 'fcntl' 'fstat' 'getcwd' 'getdents'\n",
      " 'geteuid' 'getsockname' 'getsockopt' 'lseek' 'lstat' 'mmap' 'munmap'\n",
      " 'open' 'openat' 'poll' 'procexit' 'read' 'rename' 'rt_sigaction'\n",
      " 'rt_sigprocmask' 'select' 'semop' 'set_robust_list' 'setgid' 'setgroups'\n",
      " 'setitimer' 'setuid' 'shutdown' 'socket' 'stat' 'switch' 'times' 'umask'\n",
      " 'wait4' 'write' 'writev' 'accept' 'access' 'clone' 'close' 'exit' 'fcntl'\n",
      " 'fsync' 'futex' 'getpeername' 'getsockname' 'madvise' 'mmap' 'mprotect'\n",
      " 'munmap' 'poll' 'procexit' 'pwrite' 'read' 'sched_yield' 'select'\n",
      " 'set_robust_list' 'setsockopt' 'shutdown' 'stat' 'switch' 'wait4' 'write'\n",
      " 'accept' 'brk' 'chdir' 'chmod' 'clone' 'close' 'connect' 'epoll_create1'\n",
      " 'epoll_ctl' 'epoll_wait' 'exit_group' 'fcntl' 'fstat' 'getcwd' 'getdents'\n",
      " 'geteuid' 'getsockname' 'getsockopt' 'lseek' 'lstat' 'mmap' 'munmap'\n",
      " 'open' 'openat' 'poll' 'procexit' 'read' 'rename' 'rt_sigaction'\n",
      " 'rt_sigprocmask' 'select' 'semop' 'set_robust_list' 'setgid' 'setgroups'\n",
      " 'setitimer' 'setuid' 'shutdown' 'socket' 'stat' 'switch' 'times' 'umask'\n",
      " 'wait4' 'write' 'writev' 'accept' 'brk' 'close' 'epoll_ctl' 'epoll_wait'\n",
      " 'exit_group' 'fstat' 'futex' 'getdents' 'gettid' 'open' 'pread'\n",
      " 'procexit' 'recvfrom' 'recvmsg' 'rt_sigsuspend' 'sendfile' 'sendmsg'\n",
      " 'setsockopt' 'signaldeliver' 'sigreturn' 'stat' 'switch' 'wait4' 'write'\n",
      " 'writev' 'accept' 'close' 'fcntl' 'fstat' 'futex' 'getdents'\n",
      " 'getpeername' 'getpid' 'getrandom' 'getsockname' 'getsockopt' 'ioctl'\n",
      " 'lseek' 'lstat' 'madvise' 'mkdir' 'mmap' 'mprotect' 'newfstatat' 'open'\n",
      " 'openat' 'poll' 'pread' 'read' 'recvfrom' 'rename' 'sched_yield' 'select'\n",
      " 'setsockopt' 'stat' 'switch' 'write' 'accept' 'close' 'fcntl' 'fstat'\n",
      " 'futex' 'getdents' 'getpeername' 'getpid' 'getrandom' 'getsockname'\n",
      " 'getsockopt' 'ioctl' 'lseek' 'lstat' 'madvise' 'mprotect' 'newfstatat'\n",
      " 'open' 'openat' 'poll' 'pread' 'read' 'recvfrom' 'rename' 'sched_yield'\n",
      " 'select' 'setsockopt' 'stat' 'switch' 'unlink' 'write' 'accept' 'access'\n",
      " 'arch_prctl' 'brk' 'clock_getres' 'clone' 'close' 'connect' 'dup'\n",
      " 'execve' 'exit_group' 'fcntl' 'flock' 'fstat' 'ftruncate' 'futex'\n",
      " 'getdents' 'getdents64' 'getegid' 'geteuid' 'getgid' 'getpid' 'getppid'\n",
      " 'getrlimit' 'getrusage' 'getuid' 'ioctl' 'lseek' 'mmap' 'mprotect'\n",
      " 'mremap' 'munmap' 'open' 'pipe' 'poll' 'procexit' 'read' 'recvfrom'\n",
      " 'rt_sigaction' 'rt_sigprocmask' 'sched_getaffinity' 'select' 'sendmmsg'\n",
      " 'sendto' 'set_robust_list' 'set_tid_address' 'setitimer' 'shutdown'\n",
      " 'signaldeliver' 'sigreturn' 'socket' 'stat' 'statfs' 'switch' 'sysinfo'\n",
      " 'umask' 'unlink' 'wait4' 'write' 'writev' 'accept' 'access' 'arch_prctl'\n",
      " 'brk' 'chdir' 'chmod' 'clock_getres' 'clone' 'close' 'connect' 'dup'\n",
      " 'epoll_create1' 'epoll_ctl' 'execve' 'exit_group' 'fcntl' 'fdatasync'\n",
      " 'flock' 'fstat' 'fstatfs' 'fsync' 'ftruncate' 'futex' 'getcwd' 'getdents'\n",
      " 'getegid' 'geteuid' 'getgid' 'getgroups' 'getpeername' 'getpid' 'getppid'\n",
      " 'getrandom' 'getrlimit' 'getrusage' 'getsockname' 'getsockopt' 'gettid'\n",
      " 'getuid' 'io_getevents' 'io_submit' 'ioctl' 'lseek' 'lstat' 'madvise'\n",
      " 'mkdir' 'mmap' 'mprotect' 'munmap' 'nanosleep' 'open' 'pipe' 'poll'\n",
      " 'pread' 'procexit' 'pwrite' 'read' 'readlink' 'recvfrom' 'rename' 'rmdir'\n",
      " 'rt_sigaction' 'rt_sigprocmask' 'sched_yield' 'select' 'sendmmsg'\n",
      " 'sendmsg' 'sendto' 'set_robust_list' 'set_tid_address' 'setgid'\n",
      " 'setgroups' 'setitimer' 'setsockopt' 'setuid' 'shutdown' 'signaldeliver'\n",
      " 'sigreturn' 'socket' 'stat' 'statfs' 'switch' 'times' 'umask' 'uname'\n",
      " 'unlink' 'utime' 'wait4' 'write' 'writev' 'accept' 'access' 'brk' 'chdir'\n",
      " 'clone' 'close' 'connect' 'epoll_create1' 'epoll_ctl' 'exit_group'\n",
      " 'fcntl' 'flock' 'fstat' 'fsync' 'ftruncate' 'futex' 'getcwd' 'getdents'\n",
      " 'geteuid' 'getpeername' 'getpid' 'getsockname' 'getsockopt' 'gettid'\n",
      " 'getuid' 'io_getevents' 'io_submit' 'lseek' 'lstat' 'madvise' 'mmap'\n",
      " 'mprotect' 'munmap' 'nanosleep' 'open' 'openat' 'poll' 'pread' 'procexit'\n",
      " 'pwrite' 'read' 'recvfrom' 'rt_sigaction' 'rt_sigprocmask' 'sched_yield'\n",
      " 'select' 'sendto' 'set_robust_list' 'setgid' 'setgroups' 'setitimer'\n",
      " 'setsockopt' 'setuid' 'shutdown' 'socket' 'stat' 'switch' 'times'\n",
      " 'unlink' 'utime' 'wait4' 'write' 'writev' 'accept' 'access' 'arch_prctl'\n",
      " 'brk' 'clock_getres' 'clone' 'close' 'connect' 'execve' 'exit'\n",
      " 'exit_group' 'fchdir' 'fcntl' 'fstat' 'ftruncate' 'futex' 'getcwd'\n",
      " 'getdents' 'getdents64' 'geteuid' 'getrlimit' 'getrusage' 'gettid'\n",
      " 'getuid' 'ioctl' 'kill' 'lseek' 'lstat' 'madvise' 'mkdir' 'mmap'\n",
      " 'mprotect' 'munmap' 'nanosleep' 'open' 'pipe' 'poll' 'prctl' 'pread'\n",
      " 'procexit' 'read' 'readlink' 'recvfrom' 'rt_sigaction' 'rt_sigprocmask'\n",
      " 'sched_getaffinity' 'sched_yield' 'sendto' 'set_robust_list'\n",
      " 'set_tid_address' 'setrlimit' 'shutdown' 'signaldeliver' 'sigreturn'\n",
      " 'socket' 'stat' 'switch' 'sysinfo' 'uname' 'unlink' 'wait4' 'write']\n",
      "['C1' 'C2' 'Common-Cleaner' 'Finalizer' 'G1' 'GC' 'Reference' 'Service'\n",
      " 'Signal' 'Sweeper' 'VM' 'apache2' 'connection_poo*' 'gs' 'id' 'java'\n",
      " 'mysqld' 'mysqld_safe' 'nan' 'nginx' 'pstoedit' 'puma' 'python3'\n",
      " 'reactor.rb:249' 'ruby-timer-thr' 'server.rb:358' 'sh' 'thread_pool.rb*'\n",
      " 'tmp_restart.rb*' 'uname' 'wget']\n",
      "['accept' 'access' 'arch_prctl' 'brk' 'chdir' 'chmod' 'clock_getres'\n",
      " 'clone' 'close' 'connect' 'dup' 'epoll_create1' 'epoll_ctl' 'epoll_wait'\n",
      " 'execve' 'exit' 'exit_group' 'fchdir' 'fcntl' 'fdatasync' 'flock' 'fstat'\n",
      " 'fstatfs' 'fsync' 'ftruncate' 'futex' 'getcwd' 'getdents' 'getdents64'\n",
      " 'getegid' 'geteuid' 'getgid' 'getgroups' 'getpeername' 'getpid' 'getppid'\n",
      " 'getrandom' 'getrlimit' 'getrusage' 'getsockname' 'getsockopt' 'gettid'\n",
      " 'getuid' 'io_getevents' 'io_submit' 'ioctl' 'kill' 'lseek' 'lstat'\n",
      " 'madvise' 'mkdir' 'mmap' 'mprotect' 'mremap' 'munmap' 'nanosleep'\n",
      " 'newfstatat' 'open' 'openat' 'pipe' 'poll' 'prctl' 'pread' 'procexit'\n",
      " 'pwrite' 'read' 'readlink' 'recvfrom' 'recvmsg' 'rename' 'rmdir'\n",
      " 'rt_sigaction' 'rt_sigprocmask' 'rt_sigsuspend' 'sched_getaffinity'\n",
      " 'sched_yield' 'select' 'semop' 'sendfile' 'sendmmsg' 'sendmsg' 'sendto'\n",
      " 'set_robust_list' 'set_tid_address' 'setgid' 'setgroups' 'setitimer'\n",
      " 'setrlimit' 'setsockopt' 'setuid' 'shutdown' 'signaldeliver' 'sigreturn'\n",
      " 'socket' 'stat' 'statfs' 'switch' 'sysinfo' 'times' 'umask' 'uname'\n",
      " 'unlink' 'utime' 'wait4' 'write' 'writev']\n"
     ]
    },
    {
     "name": "stderr",
     "output_type": "stream",
     "text": [
      "\n"
     ]
    }
   ],
   "source": [
    "process_arr = np.array([])\n",
    "event_type_arr = np.array([])\n",
    "for e in Attack_list:\n",
    "    print(e + \" EDA part\")\n",
    "    process_values, event_type_values = unique_function(e)\n",
    "    process_arr = np.append(process_arr,process_values)\n",
    "    event_type_arr = np.append(event_type_arr, event_type_values)\n",
    "    print(\"process list :\")\n",
    "    print(process_arr)\n",
    "    print(\"event type list : \")\n",
    "    print(event_type_arr)\n",
    "process_arr = np.unique(process_arr) #process 종류를 담은 배열\n",
    "event_type_arr = np.unique(event_type_arr)#event_type을 담은 배열\n",
    "print(process_arr)\n",
    "print(event_type_arr)"
   ]
  },
  {
   "cell_type": "code",
   "execution_count": 63,
   "id": "057c76a3",
   "metadata": {},
   "outputs": [
    {
     "name": "stdout",
     "output_type": "stream",
     "text": [
      "['C1' 'C2' 'Common-Cleaner' 'Finalizer' 'G1' 'GC' 'Reference' 'Service'\n",
      " 'Signal' 'Sweeper' 'VM' 'apache2' 'connection_poo*' 'gs' 'id' 'java'\n",
      " 'mysqld' 'mysqld_safe' 'nginx' 'pstoedit' 'puma' 'python3'\n",
      " 'reactor.rb:249' 'ruby-timer-thr' 'server.rb:358' 'sh' 'thread_pool.rb*'\n",
      " 'tmp_restart.rb*' 'uname' 'wget']\n",
      "30\n",
      "['accept' 'access' 'arch_prctl' 'brk' 'chdir' 'chmod' 'clock_getres'\n",
      " 'clone' 'close' 'connect' 'dup' 'epoll_create1' 'epoll_ctl' 'epoll_wait'\n",
      " 'execve' 'exit' 'exit_group' 'fchdir' 'fcntl' 'fdatasync' 'flock' 'fstat'\n",
      " 'fstatfs' 'fsync' 'ftruncate' 'futex' 'getcwd' 'getdents' 'getdents64'\n",
      " 'getegid' 'geteuid' 'getgid' 'getgroups' 'getpeername' 'getpid' 'getppid'\n",
      " 'getrandom' 'getrlimit' 'getrusage' 'getsockname' 'getsockopt' 'gettid'\n",
      " 'getuid' 'io_getevents' 'io_submit' 'ioctl' 'kill' 'lseek' 'lstat'\n",
      " 'madvise' 'mkdir' 'mmap' 'mprotect' 'mremap' 'munmap' 'nanosleep'\n",
      " 'newfstatat' 'open' 'openat' 'pipe' 'poll' 'prctl' 'pread' 'procexit'\n",
      " 'pwrite' 'read' 'readlink' 'recvfrom' 'recvmsg' 'rename' 'rmdir'\n",
      " 'rt_sigaction' 'rt_sigprocmask' 'rt_sigsuspend' 'sched_getaffinity'\n",
      " 'sched_yield' 'select' 'semop' 'sendfile' 'sendmmsg' 'sendmsg' 'sendto'\n",
      " 'set_robust_list' 'set_tid_address' 'setgid' 'setgroups' 'setitimer'\n",
      " 'setrlimit' 'setsockopt' 'setuid' 'shutdown' 'signaldeliver' 'sigreturn'\n",
      " 'socket' 'stat' 'statfs' 'switch' 'sysinfo' 'times' 'umask' 'uname'\n",
      " 'unlink' 'utime' 'wait4' 'write' 'writev']\n",
      "106\n"
     ]
    }
   ],
   "source": [
    "process_arr = np.delete(process_arr,np.where(process_arr==\"nan\"))\n",
    "event_type_arr = np.delete(event_type_arr,np.where(event_type_arr == \"nan\"))\n",
    "print(process_arr)\n",
    "print(len(process_arr)) #30 process type exist\n",
    "print(event_type_arr)\n",
    "print(len(event_type_arr)) # 106 process type exist"
   ]
  },
  {
   "cell_type": "markdown",
   "id": "f52389ae",
   "metadata": {},
   "source": [
    "process_arr을 바탕으로 process column label encoding\n",
    "event_type_arr을 바탕으로 event_type column label encoding\n",
    "event_direction은 one-hot encoding oor label encoding\n",
    "event_num, event_time column drop\n",
    "결론적으로 \"cpu\", \"user_id\", \"process\", \"process_id\", \"event_direction\", \"event_type\", \"event_argument\" 7개의 특성을 사용\n",
    "Encoding 전에 결측치가 존재하는 행은 제거하고 Encoding한 후 에는 MinmaxScaler, StandardScaler 둘 중에 하나 사용하여 정규화\n",
    "(Unsupervised Learning을 진행할 때에는 BatchNormalization을 사용할 것이기 때문에 딱히 정규화는 필요없을 듯?)\n",
    "Event_argument...?"
   ]
  },
  {
   "cell_type": "markdown",
   "id": "5a206489",
   "metadata": {},
   "source": [
    "---------------------------------------------------------------------------------------------------------------\n",
    "Code test part"
   ]
  },
  {
   "cell_type": "code",
   "execution_count": 452,
   "id": "1478d501",
   "metadata": {},
   "outputs": [],
   "source": [
    "run_file = pd.read_csv('/Users/cain/Desktop/Project/Anomaly_Detection_Project/LID-DS-2019/CSV/'+'Bruteforce_CWE-307'+'/run/runs.csv')"
   ]
  },
  {
   "cell_type": "code",
   "execution_count": 403,
   "id": "671a2b38",
   "metadata": {},
   "outputs": [],
   "source": [
    "sample = pd.read_csv('/Users/cain/Desktop/Project/Anomaly_Detection_Project/LID-DS-2019/CSV/'+'ex'+'/tiny_leakey_3874.csv', index_col = 0)"
   ]
  },
  {
   "cell_type": "code",
   "execution_count": 510,
   "id": "a74e0703",
   "metadata": {},
   "outputs": [
    {
     "name": "stdout",
     "output_type": "stream",
     "text": [
      "57\n",
      "22\n",
      "19\n",
      "0    22735\n",
      "1       82\n",
      "Name: label, dtype: int64\n"
     ]
    }
   ],
   "source": [
    "sample = pd.read_csv('/Users/cain/Desktop/Project/Anomaly_Detection_Project/LID-DS-2019/CSV/'+'ex'+'/tiny_leakey_3874.csv', index_col = 0)\n",
    "sample['event_time'] = sample['event_time'].str.slice(0,8)\n",
    "sample['label']=0 # \n",
    "if run_file['exploit_start_time'][run_file['scenario_name']=='tiny_leakey_3874'].values[0] != -1:\n",
    "    record_start = int(sample['event_time'][0][6:8])\n",
    "    exploit_start = run_file['exploit_start_time'][run_file['scenario_name']=='tiny_leakey_3874'].values[0]\n",
    "    tmp_time = record_start + exploit_start\n",
    "    print(record_start)\n",
    "    print(exploit_start)\n",
    "    if tmp_time > 60:\n",
    "        real_exploit_sec = tmp_time - 60\n",
    "    else:\n",
    "        real_exploit_sec = tmp_time\n",
    "    print(real_exploit_sec)\n",
    "    sample.loc[sample['event_time'].str.slice(6,8) == str(real_exploit_sec),'label'] = 1\n",
    "    print(sample['label'].value_counts())\n",
    "    sample.to_csv('/Users/cain/Desktop/Project/Anomaly_Detection_Project/LID-DS-2019/CSV/'+'ex'+'/haha.csv')\n",
    "    "
   ]
  }
 ],
 "metadata": {
  "kernelspec": {
   "display_name": "Python 3 (ipykernel)",
   "language": "python",
   "name": "python3"
  },
  "language_info": {
   "codemirror_mode": {
    "name": "ipython",
    "version": 3
   },
   "file_extension": ".py",
   "mimetype": "text/x-python",
   "name": "python",
   "nbconvert_exporter": "python",
   "pygments_lexer": "ipython3",
   "version": "3.8.11"
  }
 },
 "nbformat": 4,
 "nbformat_minor": 5
}
